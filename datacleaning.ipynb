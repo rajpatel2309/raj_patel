{
 "cells": [
  {
   "cell_type": "code",
   "execution_count": 2,
   "metadata": {},
   "outputs": [
    {
     "name": "stderr",
     "output_type": "stream",
     "text": [
      "C:\\Users\\rajp2\\AppData\\Local\\Temp\\ipykernel_7776\\2162656668.py:1: DeprecationWarning: \n",
      "Pyarrow will become a required dependency of pandas in the next major release of pandas (pandas 3.0),\n",
      "(to allow more performant data types, such as the Arrow string type, and better interoperability with other libraries)\n",
      "but was not found to be installed on your system.\n",
      "If this would cause problems for you,\n",
      "please provide us feedback at https://github.com/pandas-dev/pandas/issues/54466\n",
      "        \n",
      "  import pandas as pd\n"
     ]
    }
   ],
   "source": [
    "import pandas as pd\n",
    "import numpy as np"
   ]
  },
  {
   "cell_type": "code",
   "execution_count": 3,
   "metadata": {},
   "outputs": [],
   "source": [
    "df = pd.read_csv(r\"C:\\End-to-End Project\\raj_patel\\OLX_cars_dataset00.csv\")"
   ]
  },
  {
   "cell_type": "markdown",
   "metadata": {},
   "source": [
    "--> "
   ]
  },
  {
   "cell_type": "code",
   "execution_count": 4,
   "metadata": {},
   "outputs": [
    {
     "data": {
      "text/html": [
       "<div>\n",
       "<style scoped>\n",
       "    .dataframe tbody tr th:only-of-type {\n",
       "        vertical-align: middle;\n",
       "    }\n",
       "\n",
       "    .dataframe tbody tr th {\n",
       "        vertical-align: top;\n",
       "    }\n",
       "\n",
       "    .dataframe thead th {\n",
       "        text-align: right;\n",
       "    }\n",
       "</style>\n",
       "<table border=\"1\" class=\"dataframe\">\n",
       "  <thead>\n",
       "    <tr style=\"text-align: right;\">\n",
       "      <th></th>\n",
       "      <th>Ad ID</th>\n",
       "      <th>Car Name</th>\n",
       "      <th>Make</th>\n",
       "      <th>Model</th>\n",
       "      <th>Year</th>\n",
       "      <th>KM's driven</th>\n",
       "      <th>Price</th>\n",
       "      <th>Fuel</th>\n",
       "      <th>Registration city</th>\n",
       "      <th>Car documents</th>\n",
       "      <th>Assembly</th>\n",
       "      <th>Transmission</th>\n",
       "      <th>Condition</th>\n",
       "      <th>Seller Location</th>\n",
       "      <th>Description</th>\n",
       "      <th>Car Features</th>\n",
       "      <th>Images URL's</th>\n",
       "      <th>Car Profile</th>\n",
       "    </tr>\n",
       "  </thead>\n",
       "  <tbody>\n",
       "    <tr>\n",
       "      <th>0</th>\n",
       "      <td>1079071571</td>\n",
       "      <td>fresh import Passo 2021model</td>\n",
       "      <td>Toyota</td>\n",
       "      <td>Passo</td>\n",
       "      <td>2021</td>\n",
       "      <td>54000</td>\n",
       "      <td>4190000</td>\n",
       "      <td>Petrol</td>\n",
       "      <td>Unregistered</td>\n",
       "      <td>Original</td>\n",
       "      <td>Imported</td>\n",
       "      <td>Automatic</td>\n",
       "      <td>Used</td>\n",
       "      <td>Airline Avenue, Islamabad</td>\n",
       "      <td>it's 2021 model fresh import, perfect engine s...</td>\n",
       "      <td>ABS, Air Bags, AM/FM Radio, CD Player, Cassett...</td>\n",
       "      <td>['https://images.olx.com.pk/thumbnails/4039460...</td>\n",
       "      <td>https://www.olx.com.pk/item/fresh-import-passo...</td>\n",
       "    </tr>\n",
       "    <tr>\n",
       "      <th>1</th>\n",
       "      <td>1080125520</td>\n",
       "      <td>Suzuki ravi</td>\n",
       "      <td>Suzuki</td>\n",
       "      <td>Ravi</td>\n",
       "      <td>2018</td>\n",
       "      <td>95000</td>\n",
       "      <td>1300000</td>\n",
       "      <td>Petrol</td>\n",
       "      <td>Karachi</td>\n",
       "      <td>Original</td>\n",
       "      <td>Local</td>\n",
       "      <td>Manual</td>\n",
       "      <td>Used</td>\n",
       "      <td>Kahuta, Rawalpindi</td>\n",
       "      <td>Suzuki ravi 2018 col</td>\n",
       "      <td>AM/FM Radio</td>\n",
       "      <td>['https://images.olx.com.pk/thumbnails/4102504...</td>\n",
       "      <td>https://www.olx.com.pk/item/suzuki-ravi-iid-10...</td>\n",
       "    </tr>\n",
       "    <tr>\n",
       "      <th>2</th>\n",
       "      <td>1080748789</td>\n",
       "      <td>Suzuki bolan 2015 contact 03112271054</td>\n",
       "      <td>Suzuki</td>\n",
       "      <td>Bolan</td>\n",
       "      <td>2015</td>\n",
       "      <td>50000</td>\n",
       "      <td>800000</td>\n",
       "      <td>Petrol</td>\n",
       "      <td>Karachi</td>\n",
       "      <td>Original</td>\n",
       "      <td>Local</td>\n",
       "      <td>Manual</td>\n",
       "      <td>Used</td>\n",
       "      <td>Lyari Expressway, Karachi</td>\n",
       "      <td>Suzuki bolan model 2015 reg 2022 ghadi me koi ...</td>\n",
       "      <td>Rear speakers</td>\n",
       "      <td>['https://images.olx.com.pk/thumbnails/4139520...</td>\n",
       "      <td>https://www.olx.com.pk/item/suzuki-bolan-2015-...</td>\n",
       "    </tr>\n",
       "    <tr>\n",
       "      <th>3</th>\n",
       "      <td>1076081635</td>\n",
       "      <td>Diahatsu Move 2013</td>\n",
       "      <td>Daihatsu</td>\n",
       "      <td>Move</td>\n",
       "      <td>2013</td>\n",
       "      <td>94000</td>\n",
       "      <td>2155000</td>\n",
       "      <td>Petrol</td>\n",
       "      <td>Lahore</td>\n",
       "      <td>Original</td>\n",
       "      <td>Imported</td>\n",
       "      <td>Automatic</td>\n",
       "      <td>Used</td>\n",
       "      <td>New Amir Town, Lahore</td>\n",
       "      <td>Move Push start \\nHome Used car. \\nModel 2013....</td>\n",
       "      <td>ABS, Air Bags, Air Conditioning, Alloy Rims, A...</td>\n",
       "      <td>['https://images.olx.com.pk/thumbnails/3865337...</td>\n",
       "      <td>https://www.olx.com.pk/item/diahatsu-move-2013...</td>\n",
       "    </tr>\n",
       "    <tr>\n",
       "      <th>4</th>\n",
       "      <td>1080812928</td>\n",
       "      <td>Suzuki Swift DLX 2011 miner tuchap</td>\n",
       "      <td>Suzuki</td>\n",
       "      <td>Swift</td>\n",
       "      <td>2011</td>\n",
       "      <td>126544</td>\n",
       "      <td>1440000</td>\n",
       "      <td>Petrol</td>\n",
       "      <td>Karachi</td>\n",
       "      <td>Original</td>\n",
       "      <td>Local</td>\n",
       "      <td>Manual</td>\n",
       "      <td>Used</td>\n",
       "      <td>Shadman 2, Karachi</td>\n",
       "      <td>Suzuki Swift DLX\\nAbS Break 100%\\nengine 100%\\...</td>\n",
       "      <td>ABS, Air Conditioning, Alloy Rims, AM/FM Radio...</td>\n",
       "      <td>['https://images.olx.com.pk/thumbnails/4143509...</td>\n",
       "      <td>https://www.olx.com.pk/item/suzuki-swift-dlx-2...</td>\n",
       "    </tr>\n",
       "  </tbody>\n",
       "</table>\n",
       "</div>"
      ],
      "text/plain": [
       "        Ad ID                               Car Name      Make  Model  Year  \\\n",
       "0  1079071571           fresh import Passo 2021model    Toyota  Passo  2021   \n",
       "1  1080125520                            Suzuki ravi    Suzuki   Ravi  2018   \n",
       "2  1080748789  Suzuki bolan 2015 contact 03112271054    Suzuki  Bolan  2015   \n",
       "3  1076081635                     Diahatsu Move 2013  Daihatsu   Move  2013   \n",
       "4  1080812928     Suzuki Swift DLX 2011 miner tuchap    Suzuki  Swift  2011   \n",
       "\n",
       "   KM's driven    Price    Fuel Registration city Car documents  Assembly  \\\n",
       "0        54000  4190000  Petrol      Unregistered      Original  Imported   \n",
       "1        95000  1300000  Petrol           Karachi      Original     Local   \n",
       "2        50000   800000  Petrol           Karachi      Original     Local   \n",
       "3        94000  2155000  Petrol            Lahore      Original  Imported   \n",
       "4       126544  1440000  Petrol           Karachi      Original     Local   \n",
       "\n",
       "  Transmission Condition            Seller Location  \\\n",
       "0    Automatic      Used  Airline Avenue, Islamabad   \n",
       "1       Manual      Used         Kahuta, Rawalpindi   \n",
       "2       Manual      Used  Lyari Expressway, Karachi   \n",
       "3    Automatic      Used      New Amir Town, Lahore   \n",
       "4       Manual      Used         Shadman 2, Karachi   \n",
       "\n",
       "                                         Description  \\\n",
       "0  it's 2021 model fresh import, perfect engine s...   \n",
       "1                              Suzuki ravi 2018 col    \n",
       "2  Suzuki bolan model 2015 reg 2022 ghadi me koi ...   \n",
       "3  Move Push start \\nHome Used car. \\nModel 2013....   \n",
       "4  Suzuki Swift DLX\\nAbS Break 100%\\nengine 100%\\...   \n",
       "\n",
       "                                        Car Features  \\\n",
       "0  ABS, Air Bags, AM/FM Radio, CD Player, Cassett...   \n",
       "1                                        AM/FM Radio   \n",
       "2                                      Rear speakers   \n",
       "3  ABS, Air Bags, Air Conditioning, Alloy Rims, A...   \n",
       "4  ABS, Air Conditioning, Alloy Rims, AM/FM Radio...   \n",
       "\n",
       "                                        Images URL's  \\\n",
       "0  ['https://images.olx.com.pk/thumbnails/4039460...   \n",
       "1  ['https://images.olx.com.pk/thumbnails/4102504...   \n",
       "2  ['https://images.olx.com.pk/thumbnails/4139520...   \n",
       "3  ['https://images.olx.com.pk/thumbnails/3865337...   \n",
       "4  ['https://images.olx.com.pk/thumbnails/4143509...   \n",
       "\n",
       "                                         Car Profile  \n",
       "0  https://www.olx.com.pk/item/fresh-import-passo...  \n",
       "1  https://www.olx.com.pk/item/suzuki-ravi-iid-10...  \n",
       "2  https://www.olx.com.pk/item/suzuki-bolan-2015-...  \n",
       "3  https://www.olx.com.pk/item/diahatsu-move-2013...  \n",
       "4  https://www.olx.com.pk/item/suzuki-swift-dlx-2...  "
      ]
     },
     "execution_count": 4,
     "metadata": {},
     "output_type": "execute_result"
    }
   ],
   "source": [
    "df.head(5)"
   ]
  },
  {
   "cell_type": "code",
   "execution_count": 5,
   "metadata": {},
   "outputs": [
    {
     "name": "stdout",
     "output_type": "stream",
     "text": [
      "<class 'pandas.core.frame.DataFrame'>\n",
      "RangeIndex: 9179 entries, 0 to 9178\n",
      "Data columns (total 18 columns):\n",
      " #   Column             Non-Null Count  Dtype \n",
      "---  ------             --------------  ----- \n",
      " 0   Ad ID              9179 non-null   int64 \n",
      " 1   Car Name           9179 non-null   object\n",
      " 2   Make               9179 non-null   object\n",
      " 3   Model              9179 non-null   object\n",
      " 4   Year               9179 non-null   int64 \n",
      " 5   KM's driven        9179 non-null   int64 \n",
      " 6   Price              9179 non-null   int64 \n",
      " 7   Fuel               9179 non-null   object\n",
      " 8   Registration city  9179 non-null   object\n",
      " 9   Car documents      9179 non-null   object\n",
      " 10  Assembly           9179 non-null   object\n",
      " 11  Transmission       9179 non-null   object\n",
      " 12  Condition          9179 non-null   object\n",
      " 13  Seller Location    9179 non-null   object\n",
      " 14  Description        9179 non-null   object\n",
      " 15  Car Features       9179 non-null   object\n",
      " 16  Images URL's       9179 non-null   object\n",
      " 17  Car Profile        8721 non-null   object\n",
      "dtypes: int64(4), object(14)\n",
      "memory usage: 1.3+ MB\n"
     ]
    }
   ],
   "source": [
    "df.info()"
   ]
  },
  {
   "cell_type": "code",
   "execution_count": 6,
   "metadata": {},
   "outputs": [
    {
     "data": {
      "text/plain": [
       "array(['Unregistered', 'Karachi', 'Lahore', 'Sindh', 'Faisalabad',\n",
       "       'Islamabad', 'Sialkot', 'Gujranwala', 'Punjab', 'Multan',\n",
       "       'Rawalpindi', 'Bahawalpur', 'Hyderabad', 'Rahimyar Khan',\n",
       "       'Chishtian Mandi', 'Chiniot', 'Wazirabad', 'Sahiwal', 'Gujrat',\n",
       "       'Abbottabad', 'Khanewal', 'Peshawar', 'Sargodha', 'Bannu',\n",
       "       'Nowshera', 'Kasur', 'Arifwala', 'Jhang Sadar', 'Dera Ghazi Khan',\n",
       "       'Mardan', 'Attock', 'Larkana', 'Unknown', 'Jhelum', 'Khanpur',\n",
       "       'Wah', 'Okara', 'Bhakkar', 'Sheikhüpura', 'Swat',\n",
       "       'Dera Ismail Khan', 'Khushab', 'Bhimber', 'Mansehra', 'Mirpur',\n",
       "       'Quetta', 'Vehari', 'Hafizabad', 'Charsadda', 'Toba Tek singh',\n",
       "       'Jaranwala', 'Pirmahal', 'Haripur', 'Mirpur Khas', 'Bahawalnagar',\n",
       "       'Swabi', 'Dadu', 'Mianwali', 'Sukkar', 'Badin', 'Nawabshah'],\n",
       "      dtype=object)"
      ]
     },
     "execution_count": 6,
     "metadata": {},
     "output_type": "execute_result"
    }
   ],
   "source": [
    "df['Registration city'].unique()"
   ]
  },
  {
   "cell_type": "code",
   "execution_count": 7,
   "metadata": {},
   "outputs": [],
   "source": [
    "df.drop(['Description',\"Images URL's\",'Car Profile'],inplace=True,axis=1)"
   ]
  },
  {
   "cell_type": "code",
   "execution_count": 17,
   "metadata": {},
   "outputs": [],
   "source": [
    "df = df.iloc[:,2:-2]"
   ]
  },
  {
   "cell_type": "code",
   "execution_count": 18,
   "metadata": {},
   "outputs": [],
   "source": [
    "df.to_csv(\"OLX_cleaned.csv\", index = False)"
   ]
  },
  {
   "cell_type": "code",
   "execution_count": null,
   "metadata": {},
   "outputs": [],
   "source": []
  }
 ],
 "metadata": {
  "kernelspec": {
   "display_name": "Python 3",
   "language": "python",
   "name": "python3"
  },
  "language_info": {
   "codemirror_mode": {
    "name": "ipython",
    "version": 3
   },
   "file_extension": ".py",
   "mimetype": "text/x-python",
   "name": "python",
   "nbconvert_exporter": "python",
   "pygments_lexer": "ipython3",
   "version": "3.11.9"
  }
 },
 "nbformat": 4,
 "nbformat_minor": 2
}
